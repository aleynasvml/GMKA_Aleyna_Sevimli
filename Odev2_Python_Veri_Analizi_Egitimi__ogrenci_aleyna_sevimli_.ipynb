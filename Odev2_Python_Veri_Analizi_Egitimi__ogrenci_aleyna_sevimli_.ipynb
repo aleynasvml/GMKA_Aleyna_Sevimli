{
  "cells": [
    {
      "cell_type": "markdown",
      "metadata": {
        "id": "view-in-github",
        "colab_type": "text"
      },
      "source": [
        "<a href=\"https://colab.research.google.com/github/aleynasvml/GMKA_Aleyna_Sevimli/blob/main/Odev2_Python_Veri_Analizi_Egitimi__ogrenci_aleyna_sevimli_.ipynb\" target=\"_parent\"><img src=\"https://colab.research.google.com/assets/colab-badge.svg\" alt=\"Open In Colab\"/></a>"
      ]
    },
    {
      "cell_type": "markdown",
      "id": "68d00dc5",
      "metadata": {
        "id": "68d00dc5"
      },
      "source": [
        "# <center> Güney Marmara ve TRAI\n",
        "# <center> Python Veri Analizi Eğitimi\n",
        "# <center> Ödev 2"
      ]
    },
    {
      "cell_type": "markdown",
      "id": "2fa9e531",
      "metadata": {
        "id": "2fa9e531"
      },
      "source": [
        "### BIST30 Endeksinin incelenmesi"
      ]
    },
    {
      "cell_type": "code",
      "source": [
        "import yfinance as yf\n",
        "import plotly.express as px\n",
        "\n",
        "B30 = yf.download('XU030.IS',start='2021-01-01',end = '2021-12-31')"
      ],
      "metadata": {
        "id": "WiFe-hJnv-D8"
      },
      "id": "WiFe-hJnv-D8",
      "execution_count": null,
      "outputs": []
    },
    {
      "cell_type": "code",
      "source": [
        "B30.head()\n",
        "B30.info()\n",
        "B30.describe()"
      ],
      "metadata": {
        "id": "Ojsk0PBfwAvB"
      },
      "id": "Ojsk0PBfwAvB",
      "execution_count": null,
      "outputs": []
    },
    {
      "cell_type": "code",
      "execution_count": null,
      "id": "dbf5495d",
      "metadata": {
        "id": "dbf5495d"
      },
      "outputs": [],
      "source": [
        "B30 = B30[['Adj Close']]\n",
        "B30.columns = ['Kapanış (TRY)']\n",
        "B30\n"
      ]
    },
    {
      "cell_type": "code",
      "source": [
        "norm = B30.iloc[0,0]\n",
        "B30['Normalize'] = B30['Kapanış (TRY)']/norm\n",
        "B30"
      ],
      "metadata": {
        "id": "gftQYk2_M8fi"
      },
      "id": "gftQYk2_M8fi",
      "execution_count": null,
      "outputs": []
    },
    {
      "cell_type": "code",
      "execution_count": null,
      "id": "667d21de",
      "metadata": {
        "id": "667d21de"
      },
      "outputs": [],
      "source": [
        "fig_1 = px.line(B30, y = 'Normalize',\n",
        "                width = 1000,\n",
        "                height=500,\n",
        "                title='BIST30 Endeksi 2021 - Normalize(1 Ocak 2021)',\n",
        "                hover_data={'Normalize' : ':.2f','Kapanış (TRY)' : ':.0f'},\n",
        "                labels={'Date': 'Tarih','Normalize':'BIST30 Endeksi(TRY)'})\n",
        "fig_1"
      ]
    },
    {
      "cell_type": "markdown",
      "source": [
        "# *2021 yılına ait BIST30 endeksi yılın ilk çeyreğinde inişli çıkışlı bir grafik göstersede endeks değerleri birbirine yakındır.2.çeyrek itibari ile endeks değerlerinde düşüş görülmektedir ve bu düşük değerler 3. çeyreğin sonuna kadar devam etmiştir.Son çeyreğin ortalarında maksimum değerine ulaşmış devamında tekrar düşüşe geçmiştir.Son olarak seneyi 1.23 katında tamamlamıştır.*"
      ],
      "metadata": {
        "id": "U73GpCk8AaFB"
      },
      "id": "U73GpCk8AaFB"
    },
    {
      "cell_type": "code",
      "source": [
        "B30['degisim'] = B30['Normalize'].diff(1)\n",
        "B30['degisim%'] =( B30['degisim']/B30['Normalize'].shift(1))*100\n",
        "\n",
        "B30['d_yon'] = B30['degisim'].map(lambda x : 'dusen gun' if x < 0 else'yukselen gun')\n",
        "\n",
        "px.bar(B30,y = 'degisim%',\n",
        "               color ='d_yon',color_discrete_map={'dusen gun':'red','yukselen gun':'green'})"
      ],
      "metadata": {
        "id": "kWWASo35BuzU"
      },
      "id": "kWWASo35BuzU",
      "execution_count": null,
      "outputs": []
    },
    {
      "cell_type": "code",
      "source": [
        "px.histogram(B30['degisim%'],nbins=10)\n"
      ],
      "metadata": {
        "id": "nXqFaxUYl_U0"
      },
      "id": "nXqFaxUYl_U0",
      "execution_count": null,
      "outputs": []
    },
    {
      "cell_type": "markdown",
      "source": [
        "# *nbins 10 olarak belirlenmiştir.Nedeni borsada günlük oynama payının en uç değeri %10'dur.*"
      ],
      "metadata": {
        "id": "W8pb3ImXIh3r"
      },
      "id": "W8pb3ImXIh3r"
    },
    {
      "cell_type": "markdown",
      "source": [
        "# BIST30 değeri 2021 yılında çok yüksek bir dalganma yaşanmamıştır.En dalgalı dönemi son çeyrektir.*Senenin çoğunda +-%2 değişiklik göstermiştir.*"
      ],
      "metadata": {
        "id": "g8tIf4aMI7ea"
      },
      "id": "g8tIf4aMI7ea"
    },
    {
      "cell_type": "code",
      "source": [
        "fig_1.show()"
      ],
      "metadata": {
        "id": "1x5c7zd5MTvW"
      },
      "id": "1x5c7zd5MTvW",
      "execution_count": null,
      "outputs": []
    }
  ],
  "metadata": {
    "kernelspec": {
      "display_name": "Python 3 (ipykernel)",
      "language": "python",
      "name": "python3"
    },
    "language_info": {
      "codemirror_mode": {
        "name": "ipython",
        "version": 3
      },
      "file_extension": ".py",
      "mimetype": "text/x-python",
      "name": "python",
      "nbconvert_exporter": "python",
      "pygments_lexer": "ipython3",
      "version": "3.9.13"
    },
    "colab": {
      "provenance": [],
      "include_colab_link": true
    }
  },
  "nbformat": 4,
  "nbformat_minor": 5
}